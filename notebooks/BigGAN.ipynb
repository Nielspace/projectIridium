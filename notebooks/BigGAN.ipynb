{
 "cells": [
  {
   "cell_type": "code",
   "execution_count": 2,
   "id": "5dbe4d4f",
   "metadata": {},
   "outputs": [],
   "source": [
    "import torch \n",
    "import torch.nn as nn\n",
    "import torch.nn.functional as F\n",
    "\n",
    "import math\n",
    "\n",
    "import json\n",
    "import copy\n",
    "import logging\n",
    "import os\n",
    "import shutil\n",
    "import tempfile\n",
    "from functools import wraps\n",
    "from hashlib import sha256\n",
    "import sys\n",
    "from io import open\n",
    "from tqdm import tqdm\n",
    "\n",
    "from urllib.parse import urlparse\n",
    "\n",
    "#to access AWS\n",
    "import boto3\n",
    "import requests\n",
    "from botocore.exceptions import ClientError"
   ]
  },
  {
   "cell_type": "code",
   "execution_count": 72,
   "id": "d89d3492",
   "metadata": {},
   "outputs": [],
   "source": [
    "from pathlib import Path\n",
    "\n",
    "PYTORCH_PRETRAINED_BIGGAN_CACHE = Path(os.getenv('PYTORCH_PRETRAINED_BIGGAN_CACHE',\n",
    "                                                   Path(os.curdir) / '.pytorch_pretrained_biggan'))"
   ]
  },
  {
   "cell_type": "code",
   "execution_count": 73,
   "id": "aa8dccfd",
   "metadata": {},
   "outputs": [
    {
     "data": {
      "text/plain": [
       "PosixPath('.pytorch_pretrained_biggan')"
      ]
     },
     "execution_count": 73,
     "metadata": {},
     "output_type": "execute_result"
    }
   ],
   "source": [
    "PYTORCH_PRETRAINED_BIGGAN_CACHE"
   ]
  },
  {
   "cell_type": "code",
   "execution_count": 18,
   "id": "564380be",
   "metadata": {},
   "outputs": [],
   "source": [
    "logger = logging.getLogger(__name__)"
   ]
  },
  {
   "cell_type": "code",
   "execution_count": 71,
   "id": "4ece66b0",
   "metadata": {},
   "outputs": [
    {
     "data": {
      "text/plain": [
       "PosixPath('.')"
      ]
     },
     "execution_count": 71,
     "metadata": {},
     "output_type": "execute_result"
    }
   ],
   "source": [
    "Path(os.curdir)"
   ]
  },
  {
   "cell_type": "code",
   "execution_count": 19,
   "id": "dd4ac5ec",
   "metadata": {},
   "outputs": [],
   "source": [
    "PRETRAINED_MODEL_ARCHIVE_MAP = {\n",
    "    'biggan-deep-128': \"https://s3.amazonaws.com/models.huggingface.co/biggan/biggan-deep-128-pytorch_model.bin\",\n",
    "    'biggan-deep-256': \"https://s3.amazonaws.com/models.huggingface.co/biggan/biggan-deep-256-pytorch_model.bin\",\n",
    "    'biggan-deep-512': \"https://s3.amazonaws.com/models.huggingface.co/biggan/biggan-deep-512-pytorch_model.bin\",\n",
    "}\n",
    "\n",
    "PRETRAINED_CONFIG_ARCHIVE_MAP = {\n",
    "    'biggan-deep-128': \"https://s3.amazonaws.com/models.huggingface.co/biggan/biggan-deep-128-config.json\",\n",
    "    'biggan-deep-256': \"https://s3.amazonaws.com/models.huggingface.co/biggan/biggan-deep-256-config.json\",\n",
    "    'biggan-deep-512': \"https://s3.amazonaws.com/models.huggingface.co/biggan/biggan-deep-512-config.json\",\n",
    "}"
   ]
  },
  {
   "cell_type": "code",
   "execution_count": 20,
   "id": "9b2a52db",
   "metadata": {},
   "outputs": [],
   "source": [
    "WEIGHTS_NAME = 'pytorch_model.bin'\n",
    "CONFIG_NAME = 'config.json'"
   ]
  },
  {
   "cell_type": "code",
   "execution_count": 30,
   "id": "fbee8c94",
   "metadata": {},
   "outputs": [],
   "source": [
    "def url_to_filename(url, etag=None):\n",
    "    \"\"\"\n",
    "    Convert `url` into a hashed filename in a repeatable way.\n",
    "    If `etag` is specified, append its hash to the url's, delimited\n",
    "    by a period.\n",
    "    \"\"\"\n",
    "    url_bytes = url.encode('utf-8')\n",
    "    url_hash = sha256(url_bytes)\n",
    "    filename = url_hash.hexdigest()\n",
    "\n",
    "    if etag:\n",
    "        etag_bytes = etag.encode('utf-8')\n",
    "        etag_hash = sha256(etag_bytes)\n",
    "        filename += '.' + etag_hash.hexdigest()\n",
    "\n",
    "    return filename"
   ]
  },
  {
   "cell_type": "code",
   "execution_count": 31,
   "id": "ef0ae322",
   "metadata": {},
   "outputs": [],
   "source": [
    "def filename_to_url(filename, cache_dir=None):\n",
    "    if cache_dir is None:\n",
    "        cache_dir = PYTORCH_PRETRAINED_BIGGAN_CACHE\n",
    "    if sys.version_info[0] == 3 and isinstance(cache_dir, Path):\n",
    "        cache_dir = str(cache_dir)\n",
    "        \n",
    "    cache_path = os.path.join(cache_dir, filename)\n",
    "    if not os.path.exists(cache_path):\n",
    "        raise EnvironmentError(f\"file {cache_path} not found.\")\n",
    "        \n",
    "        \n",
    "    meta_path = cache_path + '.json'\n",
    "    if not os.path.exists(meta_path):\n",
    "        raise EnvironmentError(f\"file {meta_path} not found.\")\n",
    "        \n",
    "        \n",
    "    with open(meta_path, encoding=\"utf-8\") as meta_file:\n",
    "        metadata = json.load(meta_file)\n",
    "    url = metadata['url']\n",
    "    etag = metadata['etag']\n",
    "\n",
    "    return url, etag"
   ]
  },
  {
   "cell_type": "code",
   "execution_count": 42,
   "id": "1f4a3fa4",
   "metadata": {},
   "outputs": [],
   "source": [
    "def http_get(url, temp_file):\n",
    "    req = requests.get(url, stream=True)\n",
    "    content_length = req.headers.get('Content-Length')\n",
    "    total = int(content_length) if content_length is not None else None\n",
    "    progress = tqdm(unit=\"B\", total=total)\n",
    "    for chunk in req.iter_content(chunk_size=1024):\n",
    "        if chunk: # filter out keep-alive new chunks\n",
    "            progress.update(len(chunk))\n",
    "            temp_file.write(chunk)\n",
    "    progress.close()\n"
   ]
  },
  {
   "cell_type": "code",
   "execution_count": 43,
   "id": "e6aea5a4",
   "metadata": {},
   "outputs": [],
   "source": [
    "def get_from_cache(url, cache_dir=None):\n",
    "    \"\"\"\n",
    "    Given a URL, look for the corresponding dataset in the local cache.\n",
    "    If it's not there, download it. Then return the path to the cached file.\n",
    "    \"\"\"\n",
    "    if cache_dir is None:\n",
    "        cache_dir = PYTORCH_PRETRAINED_BIGGAN_CACHE\n",
    "    if sys.version_info[0] == 3 and isinstance(cache_dir, Path):\n",
    "        cache_dir = str(cache_dir)\n",
    "\n",
    "    if not os.path.exists(cache_dir):\n",
    "        os.makedirs(cache_dir)\n",
    "\n",
    "    # Get eTag to add to filename, if it exists.\n",
    "    if url.startswith(\"s3://\"):\n",
    "        etag = s3_etag(url)\n",
    "    else:\n",
    "        response = requests.head(url, allow_redirects=True)\n",
    "        if response.status_code != 200:\n",
    "            raise IOError(\"HEAD request failed for url {} with status code {}\"\n",
    "                          .format(url, response.status_code))\n",
    "        etag = response.headers.get(\"ETag\")\n",
    "\n",
    "    filename = url_to_filename(url, etag)\n",
    "\n",
    "    # get cache path to put the file\n",
    "    cache_path = os.path.join(cache_dir, filename)\n",
    "\n",
    "    if not os.path.exists(cache_path):\n",
    "        # Download to temporary file, then copy to cache dir once finished.\n",
    "        # Otherwise you get corrupt cache entries if the download gets interrupted.\n",
    "        with tempfile.NamedTemporaryFile() as temp_file:\n",
    "            logger.info(\"%s not found in cache, downloading to %s\", url, temp_file.name)\n",
    "\n",
    "            # GET file object\n",
    "            if url.startswith(\"s3://\"):\n",
    "                s3_get(url, temp_file)\n",
    "            else:\n",
    "                http_get(url, temp_file)\n",
    "\n",
    "            # we are copying the file before closing it, so flush to avoid truncation\n",
    "            temp_file.flush()\n",
    "            # shutil.copyfileobj() starts at the current position, so go to the start\n",
    "            temp_file.seek(0)\n",
    "\n",
    "            logger.info(\"copying %s to cache at %s\", temp_file.name, cache_path)\n",
    "            with open(cache_path, 'wb') as cache_file:\n",
    "                shutil.copyfileobj(temp_file, cache_file)\n",
    "\n",
    "            logger.info(\"creating metadata file for %s\", cache_path)\n",
    "            meta = {'url': url, 'etag': etag}\n",
    "            meta_path = cache_path + '.json'\n",
    "            with open(meta_path, 'w', encoding=\"utf-8\") as meta_file:\n",
    "                json.dump(meta, meta_file)\n",
    "\n",
    "            logger.info(\"removing temp file %s\", temp_file.name)\n",
    "\n",
    "    return cache_path"
   ]
  },
  {
   "cell_type": "code",
   "execution_count": 45,
   "id": "8f46c4f5",
   "metadata": {},
   "outputs": [],
   "source": [
    "def cached_path(url_or_filename, cache_dir=None):\n",
    "    \"\"\"\n",
    "    Given something that might be a URL (or might be a local path),\n",
    "    determine which. If it's a URL, download the file and cache it, and\n",
    "    return the path to the cached file. If it's already a local path,\n",
    "    make sure the file exists and then return the path.\n",
    "    \"\"\"\n",
    "    if cache_dir is None:\n",
    "        cache_dir = PYTORCH_PRETRAINED_BIGGAN_CACHE\n",
    "    if sys.version_info[0] == 3 and isinstance(url_or_filename, Path):\n",
    "        url_or_filename = str(url_or_filename)\n",
    "    if sys.version_info[0] == 3 and isinstance(cache_dir, Path):\n",
    "        cache_dir = str(cache_dir)\n",
    "\n",
    "    parsed = urlparse(url_or_filename)\n",
    "\n",
    "    if parsed.scheme in ('http', 'https', 's3'):\n",
    "        # URL, so get it from the cache (downloading if necessary)\n",
    "        return get_from_cache(url_or_filename, cache_dir)\n",
    "    elif os.path.exists(url_or_filename):\n",
    "        # File, and it exists.\n",
    "        return url_or_filename\n",
    "    elif parsed.scheme == '':\n",
    "        # File, but it doesn't exist.\n",
    "        raise EnvironmentError(\"file {} not found\".format(url_or_filename))\n",
    "    else:\n",
    "        # Something unknown\n",
    "        raise ValueError(\"unable to parse {} as a URL or as a local path\".format(url_or_filename))\n",
    "        \n",
    "        \n",
    "        \n",
    "        \n"
   ]
  },
  {
   "cell_type": "code",
   "execution_count": null,
   "id": "5a03f2bf",
   "metadata": {},
   "outputs": [],
   "source": []
  }
 ],
 "metadata": {
  "kernelspec": {
   "display_name": "Python 3 (ipykernel)",
   "language": "python",
   "name": "python3"
  },
  "language_info": {
   "codemirror_mode": {
    "name": "ipython",
    "version": 3
   },
   "file_extension": ".py",
   "mimetype": "text/x-python",
   "name": "python",
   "nbconvert_exporter": "python",
   "pygments_lexer": "ipython3",
   "version": "3.8.12"
  }
 },
 "nbformat": 4,
 "nbformat_minor": 5
}
